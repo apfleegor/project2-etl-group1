{
 "cells": [
  {
   "cell_type": "code",
   "execution_count": 2,
   "metadata": {},
   "outputs": [],
   "source": [
    "import pandas as pd\n",
    "from sqlalchemy import create_engine"
   ]
  },
  {
   "cell_type": "code",
   "execution_count": 3,
   "metadata": {},
   "outputs": [
    {
     "data": {
      "text/html": [
       "<div>\n",
       "<style scoped>\n",
       "    .dataframe tbody tr th:only-of-type {\n",
       "        vertical-align: middle;\n",
       "    }\n",
       "\n",
       "    .dataframe tbody tr th {\n",
       "        vertical-align: top;\n",
       "    }\n",
       "\n",
       "    .dataframe thead th {\n",
       "        text-align: right;\n",
       "    }\n",
       "</style>\n",
       "<table border=\"1\" class=\"dataframe\">\n",
       "  <thead>\n",
       "    <tr style=\"text-align: right;\">\n",
       "      <th></th>\n",
       "      <th>Incident ID</th>\n",
       "      <th>Incident Date</th>\n",
       "      <th>state</th>\n",
       "      <th>City_Or_County</th>\n",
       "      <th>Address</th>\n",
       "      <th>n_killed</th>\n",
       "      <th>n_injured</th>\n",
       "    </tr>\n",
       "  </thead>\n",
       "  <tbody>\n",
       "    <tr>\n",
       "      <th>0</th>\n",
       "      <td>2202397</td>\n",
       "      <td>1/1/2022</td>\n",
       "      <td>Indiana</td>\n",
       "      <td>Indianapolis</td>\n",
       "      <td>3800 block of N Temple Ave</td>\n",
       "      <td>0</td>\n",
       "      <td>1</td>\n",
       "    </tr>\n",
       "    <tr>\n",
       "      <th>1</th>\n",
       "      <td>2202390</td>\n",
       "      <td>1/1/2022</td>\n",
       "      <td>Michigan</td>\n",
       "      <td>Detroit</td>\n",
       "      <td>Joy Rd and Prest St</td>\n",
       "      <td>0</td>\n",
       "      <td>1</td>\n",
       "    </tr>\n",
       "    <tr>\n",
       "      <th>2</th>\n",
       "      <td>2205160</td>\n",
       "      <td>1/1/2022</td>\n",
       "      <td>North Carolina</td>\n",
       "      <td>Summerfield</td>\n",
       "      <td>Spotswood Rd and Ashview Ct</td>\n",
       "      <td>0</td>\n",
       "      <td>1</td>\n",
       "    </tr>\n",
       "    <tr>\n",
       "      <th>3</th>\n",
       "      <td>2211626</td>\n",
       "      <td>1/1/2022</td>\n",
       "      <td>Kansas</td>\n",
       "      <td>Lawrence</td>\n",
       "      <td>1837 N 1500 Rd</td>\n",
       "      <td>0</td>\n",
       "      <td>1</td>\n",
       "    </tr>\n",
       "    <tr>\n",
       "      <th>4</th>\n",
       "      <td>2206646</td>\n",
       "      <td>1/1/2022</td>\n",
       "      <td>Oklahoma</td>\n",
       "      <td>Oklahoma City</td>\n",
       "      <td>S McKinley Ave and SW 27th St</td>\n",
       "      <td>1</td>\n",
       "      <td>1</td>\n",
       "    </tr>\n",
       "  </tbody>\n",
       "</table>\n",
       "</div>"
      ],
      "text/plain": [
       "   Incident ID Incident Date           state City_Or_County  \\\n",
       "0      2202397      1/1/2022         Indiana   Indianapolis   \n",
       "1      2202390      1/1/2022        Michigan        Detroit   \n",
       "2      2205160      1/1/2022  North Carolina    Summerfield   \n",
       "3      2211626      1/1/2022          Kansas       Lawrence   \n",
       "4      2206646      1/1/2022        Oklahoma  Oklahoma City   \n",
       "\n",
       "                         Address  n_killed  n_injured  \n",
       "0     3800 block of N Temple Ave         0          1  \n",
       "1            Joy Rd and Prest St         0          1  \n",
       "2    Spotswood Rd and Ashview Ct         0          1  \n",
       "3                 1837 N 1500 Rd         0          1  \n",
       "4  S McKinley Ave and SW 27th St         1          1  "
      ]
     },
     "execution_count": 3,
     "metadata": {},
     "output_type": "execute_result"
    }
   ],
   "source": [
    "filepath = \"Resources\\GunViolenceDataset2022.csv\"\n",
    "cars_df = pd.read_csv(filepath, encoding=\"UTF-8\")\n",
    "cars_df.head()"
   ]
  },
  {
   "cell_type": "code",
   "execution_count": null,
   "metadata": {},
   "outputs": [],
   "source": []
  }
 ],
 "metadata": {
  "kernelspec": {
   "display_name": "Python 3.10.6 64-bit (microsoft store)",
   "language": "python",
   "name": "python3"
  },
  "language_info": {
   "codemirror_mode": {
    "name": "ipython",
    "version": 3
   },
   "file_extension": ".py",
   "mimetype": "text/x-python",
   "name": "python",
   "nbconvert_exporter": "python",
   "pygments_lexer": "ipython3",
   "version": "3.10.6"
  },
  "orig_nbformat": 4,
  "vscode": {
   "interpreter": {
    "hash": "5adcfeb8281b255301f1bf006f5bdf9a382ba93ff878d717d856c48a843bc71c"
   }
  }
 },
 "nbformat": 4,
 "nbformat_minor": 2
}
